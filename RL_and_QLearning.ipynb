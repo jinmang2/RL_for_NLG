{
 "cells": [
  {
   "cell_type": "markdown",
   "metadata": {},
   "source": [
    "# Reinforcement Learning and Q-Learning\n",
    "- RL vs DP : 환경의 모델을 몰라도 학습할 수 있는가?\n",
    "- MDP(Markov Decision Process)로 정의되는 문제를 풀 때 중요한 것은 **벨만 기대 방정식의 기댓값인 $E_\\pi$를 어떻게 계산하는가?**\n",
    "- 인간도 어떤 것을 판단할 대 항상 정확한 정보를 근거로 판단하지 않음\n",
    "- Policy Evalutaion $\\rightarrow$ Predict\n",
    "    - 강화학습의 예측엔 Monte-Carlo, 시간차 예측이 있음\n",
    "- Policy Iteration(Policy Evaluation + Policy Improvement) $\\rightarrow$ Control\n",
    "    - SARSA와 Q-Learning이 있음\n",
    "- 고전 강화학습 알고리즘들은 현재 **젠젠** 사용되지 않지만, 현재의 알고리즘들은 이들을 기반으로 발전됐다!\n",
    "    - 그러므로 공부해라 닝겐아"
   ]
  },
  {
   "cell_type": "markdown",
   "metadata": {},
   "source": [
    "### Monte-Carlo Approximation으로 원의 넓이 추정하기\n",
    "- 우리는 원의 넓이를 구하는 식을 알고 있다. ($S(\\text{circle})=\\pi r^2$)\n",
    "- 위의 방정식을 몰라도 넓이를 구할 수 있을 것인가?\n",
    "- 수없이 점을 뿌려서 비율로 근사하자!\n",
    "- 주가 예측 시뮬레이션에서도 많이 사용해본 Monte-Carlo, 여기서 복습하기"
   ]
  },
  {
   "cell_type": "code",
   "execution_count": 1,
   "metadata": {},
   "outputs": [],
   "source": [
    "import numpy as np\n",
    "import matplotlib.pyplot as plt\n",
    "%matplotlib inline"
   ]
  },
  {
   "cell_type": "code",
   "execution_count": 2,
   "metadata": {},
   "outputs": [
    {
     "data": {
      "image/png": "[encoded data removed]",
      "text/plain": [
       "<Figure size 432x288 with 1 Axes>"
      ]
     },
     "metadata": {
      "needs_background": "light"
     },
     "output_type": "display_data"
    }
   ],
   "source": [
    "# https://mathcoding.tistory.com/21?category=756794\n",
    "circle_center = (0, 0)\n",
    "circle_radius = 4\n",
    "\n",
    "c = plt.Circle(circle_center, circle_radius, fc='w', ec='b')\n",
    "\n",
    "a = plt.axes(xlim=(-5, 5), ylim=(-5, 5))\n",
    "a.add_patch(c)\n",
    "a.set_aspect('equal')\n",
    "\n",
    "plt.show()"
   ]
  },
  {
   "cell_type": "code",
   "execution_count": 3,
   "metadata": {},
   "outputs": [],
   "source": [
    "# random sample 생성 코드\n",
    "def MonteCarloSampling(xlim, ylim):\n",
    "    xmin, xmax, ymin, ymax = xlim + ylim\n",
    "    crd = (\n",
    "        np.random.uniform(xmin, xmax), \n",
    "        np.random.uniform(ymin, ymax)\n",
    "    )\n",
    "    return crd\n",
    "\n",
    "\n",
    "# 원 안의 점인지 확인\n",
    "def is_in_circle(crd, r=1):\n",
    "    x, y = crd\n",
    "    is_circle = int(x ** 2 + y ** 2 <= r ** 2)\n",
    "    return is_circle"
   ]
  },
  {
   "cell_type": "code",
   "execution_count": 4,
   "metadata": {},
   "outputs": [],
   "source": [
    "xlim, ylim = (-5, 5), (-5, 5)\n",
    "n_iter = int(1e5)\n",
    "\n",
    "results = {}\n",
    "for _ in range(n_iter):\n",
    "    crd = MonteCarloSampling(xlim, ylim)\n",
    "    results[crd] = is_in_circle(crd, r=4)"
   ]
  },
  {
   "cell_type": "code",
   "execution_count": 5,
   "metadata": {},
   "outputs": [
    {
     "data": {
      "text/plain": [
       "50.236"
      ]
     },
     "execution_count": 5,
     "metadata": {},
     "output_type": "execute_result"
    }
   ],
   "source": [
    "# 근사한 넓이\n",
    "100 * sum(results.values()) / len(results)"
   ]
  },
  {
   "cell_type": "code",
   "execution_count": 6,
   "metadata": {},
   "outputs": [
    {
     "data": {
      "text/plain": [
       "50.26548245743669"
      ]
     },
     "execution_count": 6,
     "metadata": {},
     "output_type": "execute_result"
    }
   ],
   "source": [
    "# 실제 넓이\n",
    "4 ** 2 * np.pi"
   ]
  },
  {
   "cell_type": "code",
   "execution_count": 7,
   "metadata": {},
   "outputs": [
    {
     "data": {
      "image/png": "[encoded data removed]",
      "text/plain": [
       "<Figure size 432x288 with 1 Axes>"
      ]
     },
     "metadata": {
      "needs_background": "light"
     },
     "output_type": "display_data"
    }
   ],
   "source": [
    "circle_center = (0, 0)\n",
    "circle_radius = 4\n",
    "\n",
    "c = plt.Circle(circle_center, circle_radius, fc='w', ec='b')\n",
    "\n",
    "a = plt.axes(xlim=(-5, 5), ylim=(-5, 5))\n",
    "a.add_patch(c)\n",
    "a.set_aspect('equal')\n",
    "\n",
    "# 원 안의 점을 green으로 색칠\n",
    "coords = np.array([(x, y) for (x, y), i in results.items() if i == 1])\n",
    "plt.plot(coords[:, 0], coords[:, 1], color='g', ls='', marker='o')\n",
    "\n",
    "# 원 밖의 점을 cyan으로 색칠\n",
    "coords = np.array([(x, y) for (x, y), i in results.items() if i == 0])\n",
    "plt.plot(coords[:, 0], coords[:, 1], color='c', ls='', marker='o')\n",
    "\n",
    "plt.show()"
   ]
  },
  {
   "cell_type": "markdown",
   "metadata": {},
   "source": [
    "# 1. Predict (Sub-Text: RL과 Policy Evaluation)\n",
    "- Monte-Carlo Prediction\n",
    "- Temporal Difference"
   ]
  },
  {
   "cell_type": "markdown",
   "metadata": {},
   "source": [
    "## 1-1. Monte-Carlo Prediction\n",
    "- 강화학습에서 Predict는 Policy Evaluation을 옮겨온 것.\n",
    "- PE에선 뭘 계산했었지? $\\rightarrow$ 벨만 기대 방정식을 통해 가치 함수(보상의 기댓값)를 계산\n",
    "- 그러면, 샘플링을 통해 기댓값을 계산하지 않고 샘플들의 평균으로 참 가치함수를 `예측`하려면?\n",
    "    - 현재 정책에 따라서 계속 행동해보거라 닝겐이여!\n",
    "\n",
    "### 수식\n",
    "- In Policy Iteration,\n",
    "$$v_\\pi(s)=E_\\pi\\big[R_{t+1}+\\gamma v_\\pi(S_{t+1})\\;\\big|\\;S_t=s\\big]$$\n",
    "$$v_\\pi(s)=\\sum_{a\\in A}\\pi(a|s)\\big(r_{(s,a)}+\\gamma\\sum_{s^\\prime\\in S}P_{SS^\\prime}^{a}v_\\pi(s^\\prime)\\big)$$\n",
    "\n",
    "    - 위의 `벨만 기대 방정식`을 계산하기 위해선 환경의 모델인 `상태 변환 확률` $P_{SS^\\prime}^{a}$과 `보상 함수` $r_{(s,a)}$를 알아야 함\n",
    "- In Monte-Carlo Prediction,\n",
    "$$v_\\pi(s)\\;\\text{~}\\;\\frac{1}{N(s)}\\sum_{i=1}^{N(s)}G_i(s)$$\n",
    "    - $N(s)$: 상태 $s$를 여러 번의 에피소드 동안 방문한 횟수\n",
    "    - $G_i(s)$: 그 상태를 방문한 $i$번째 에피소드에서 $s$의 반환값\n",
    "- 현재의 정책에 따라 무수히 많은 에피소드를 진행해 보는 것.\n",
    "    - 그러면 지날 수 있는 모든 상태에 대해 충분한 반환값을 모을 수 있음\n",
    "- 상태의 반환값들의 평균을 취하는 방법! (식을 변환하여 재귀적으로 써보자!)\n",
    "    - 아래 가치 함수를 대문자로 표현하는 것은 **참 가치함수가 아니라 측정된 오차가 내포된 가치함수란 의미** \n",
    "$$\\begin{array}\\\n",
    "V_{n+1}&=\\frac{1}{n}\\sum_{i=1}^{n}G_i\\\\\n",
    "&=V_n+\\frac{1}{n}(G_n-V_n)\\\\\n",
    "\\end{array}$$\n",
    "\n",
    "- 하여 식을 아래와 같이 정리 가능\n",
    "$$Hence.\\;V(s)\\leftarrow V(s)+\\frac{1}{n}(G(s)+V(s))$$\n",
    "    - $G(s)-V(s)$: 오차\n",
    "    - $\\frac{1}{n}$: step size, 업데이트할 때 오차의 얼마를 가지고 업데이트할 지 정하는 것\n",
    "    - StepSize를 $\\alpha$로 보통 씀!\n",
    "\n",
    "\n",
    "**정말 중요한 것은!!!!**\n",
    "- 몬테카를로 예측 이후의 모든 강화학습 방법에서 가치함수를 업데이트하는 것은 `위의 수식의 변형`일 뿐!\n",
    "\n",
    "### 즉, 정리해보면\n",
    "1. $G(s)$: 업데이트의 목표\n",
    "2. $\\alpha(G(s)-V(s))$: 업데이트의 크기\n",
    "\n",
    "\n",
    "- 가치함수는 한번에 목표점으로 가는 것이 아닌 `2`만큼 이동하여 자신을 업데이트"
   ]
  },
  {
   "cell_type": "markdown",
   "metadata": {},
   "source": [
    "## 1-2. Temporal Difference\n",
    "- 강화학습에서 가장 중요한 아이디어 중 하나\n",
    "- **MC의 단점은? 실시간이 아니다!**'\n",
    "    - 가치함수를 업데이트하기 위해서는 에피소드가 끝날 때까지 기다려야 함\n",
    "- 에피소드가 긴 경우, 혹은 끝이 없는 경우엔 다른 학습 방법, TD를 이용해야 함!\n",
    "\n",
    "### What is TD?\n",
    "- MC와 다르게 Time-Step마다 가치함수를 업데이트\n",
    "- MC에서는 기댓값을 계산하는 대신, Sampling을 통해 예측\n",
    "- Time-Step마다 $R_{t+1}+\\gamma v_\\pi(s^\\prime)$ 값을 샘플링해서 그 값으로 현재의 가치함수를 업데이트\n",
    "$$V(S_t)\\leftarrow V(S_t)+\\alpha(R_{t+1}+\\gamma V(S_{t+1})-V(S_t)$$\n",
    "\n",
    "### 즉,\n",
    "1. $R_{t+1}+\\gamma V(S_{t+1})$: 업데이트의 목표\n",
    "2. $\\alpha\\big(R_{t+1}+\\gamma V(S_{t+1})-V(S_t)\\big)$: 업데이트의 크기\n",
    "\n",
    "- $R_{t+1}+\\gamma V(S_{t+1})-V(S_t)$: `Temporal-Difference Error(시간차 에러)`\n",
    "- TD는 에피소드가 끝날 때까지 기다릴 필요없이 바로 가치함수를 업데이트할 수 있음\n",
    "- MC보다 더 효율적으로 빠른 시간 안에 참 가치함수에 근접하지만, **초기 가치함수 값에 따라 예측 정확도가 많이 달라짐**"
   ]
  },
  {
   "cell_type": "markdown",
   "metadata": {},
   "source": [
    "# 2. RL Algorithm\n",
    "- SARSA\n",
    "- Q-Learning"
   ]
  },
  {
   "cell_type": "markdown",
   "metadata": {},
   "source": [
    "## 2-1. SARSA\n"
   ]
  }
 ],
 "metadata": {
  "kernelspec": {
   "display_name": "basic",
   "language": "python",
   "name": "basic"
  },
  "language_info": {
   "codemirror_mode": {
    "name": "ipython",
    "version": 3
   },
   "file_extension": ".py",
   "mimetype": "text/x-python",
   "name": "python",
   "nbconvert_exporter": "python",
   "pygments_lexer": "ipython3",
   "version": "3.6.9"
  }
 },
 "nbformat": 4,
 "nbformat_minor": 2
}
